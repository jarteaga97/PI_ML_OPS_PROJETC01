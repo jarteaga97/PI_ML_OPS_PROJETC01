{
 "cells": [
  {
   "cell_type": "code",
   "execution_count": 2,
   "metadata": {},
   "outputs": [],
   "source": [
    "import pandas as pd\n",
    "import numpy as np\n",
    "import ast\n",
    "import json"
   ]
  },
  {
   "cell_type": "code",
   "execution_count": null,
   "metadata": {},
   "outputs": [],
   "source": [
    "df_movies = pd.read_csv('datasets/movies_dataset.csv')\n",
    "df_movies\n",
    "#45466 rows × 24 columns"
   ]
  },
  {
   "attachments": {},
   "cell_type": "markdown",
   "metadata": {},
   "source": [
    "+ Desanidar los campos que poseen diccionarios o lista de los mismos."
   ]
  },
  {
   "cell_type": "code",
   "execution_count": null,
   "metadata": {},
   "outputs": [],
   "source": [
    "def convert_name(obj): \n",
    "    \n",
    "    if isinstance(obj, str) and '{' in obj:\n",
    "        dic = ast.literal_eval(obj)\n",
    "\n",
    "        return dic['name']\n",
    "\n",
    "df_movies['belongs_to_collection']=df_movies['belongs_to_collection'].apply(convert_name)\n",
    "\n"
   ]
  },
  {
   "cell_type": "code",
   "execution_count": null,
   "metadata": {},
   "outputs": [],
   "source": [
    "def convert_arr(obj):\n",
    "    if isinstance(obj, str) and '{' in obj:\n",
    "        L=[]\n",
    "        for i in ast.literal_eval(obj):\n",
    "            L.append(i['name']);\n",
    "        return L\n",
    "\n",
    "df_movies['genres']=df_movies['genres'].apply(convert_arr)\n",
    "df_movies['production_companies']  = df_movies['production_companies'].apply(convert_arr)\n",
    "df_movies['production_countries']  = df_movies['production_countries'].apply(convert_arr)\n"
   ]
  },
  {
   "cell_type": "code",
   "execution_count": null,
   "metadata": {},
   "outputs": [],
   "source": [
    "def convert_iso(obj): \n",
    "    if isinstance(obj, str) and '{' in obj:\n",
    "        L=[]\n",
    "        for i in ast.literal_eval(obj):\n",
    "            L.append(i['iso_639_1']);\n",
    "        return L\n",
    "\n",
    "df_movies['spoken_languages']=df_movies['spoken_languages'].apply(convert_iso)"
   ]
  },
  {
   "attachments": {},
   "cell_type": "markdown",
   "metadata": {},
   "source": [
    "+ Rellenar con el número **`0`** los valores nulos de los campos **`revenue`**, **`budget`**."
   ]
  },
  {
   "cell_type": "code",
   "execution_count": null,
   "metadata": {},
   "outputs": [],
   "source": [
    "df_movies['revenue'].fillna(0,inplace=True)\n",
    "df_movies['budget'].fillna(0,inplace=True)"
   ]
  },
  {
   "attachments": {},
   "cell_type": "markdown",
   "metadata": {},
   "source": [
    "+ De haber fechas, deberán tener el formato **`AAAA-mm-dd`**"
   ]
  },
  {
   "cell_type": "code",
   "execution_count": null,
   "metadata": {},
   "outputs": [],
   "source": [
    "df_movies['release_date'] = df_movies['release_date'].astype(str)\n",
    "df_movies['release_date'] = df_movies['release_date'].fillna('')\n",
    "df_movies['release_date'] = pd.to_datetime(df_movies['release_date'], errors='coerce')\n"
   ]
  },
  {
   "attachments": {},
   "cell_type": "markdown",
   "metadata": {},
   "source": [
    "+ Crear la columna **`release_year`** donde extraerán el año de la fecha de estreno."
   ]
  },
  {
   "cell_type": "code",
   "execution_count": null,
   "metadata": {},
   "outputs": [],
   "source": [
    "df_movies['release_year']=df_movies['release_date'].dt.year\n",
    "df_movies['release_year']=df_movies['release_year'].astype('Int64')"
   ]
  },
  {
   "attachments": {},
   "cell_type": "markdown",
   "metadata": {},
   "source": [
    "+ Crear la columna llamada **`return`**, dividiendo los campos **`revenue / budget`**, cuando no hay datos disponibles para calcularlo, deberá tomar el valor **`0`**."
   ]
  },
  {
   "cell_type": "code",
   "execution_count": null,
   "metadata": {},
   "outputs": [],
   "source": [
    "def division(row):\n",
    "    if row['revenue'] == 0 or int(row['budget'])== 0 or row['budget'] == 0 or not str(row['budget']).isnumeric():\n",
    "        return 0\n",
    "    else:\n",
    "        return row['revenue'] / int(row['budget'])\n",
    "\n",
    "# Aplicar la función a cada fila del dataframe y crear una nueva columna\n",
    "df_movies['return'] = df_movies.apply(division, axis=1)\n"
   ]
  },
  {
   "attachments": {},
   "cell_type": "markdown",
   "metadata": {},
   "source": [
    "+ Eliminar las columnas que no serán utilizadas, **`video`**,**`imdb_id`**,**`adult`**,**`original_title`**,**`vote_count`**,**`poster_path`** y **`homepage`**."
   ]
  },
  {
   "cell_type": "code",
   "execution_count": null,
   "metadata": {},
   "outputs": [],
   "source": [
    "df_movies.drop(columns=['video', 'imdb_id','adult','original_title','vote_count','poster_path', 'homepage'], inplace=True)"
   ]
  },
  {
   "cell_type": "code",
   "execution_count": null,
   "metadata": {},
   "outputs": [],
   "source": [
    "pd.DataFrame(df_movies).to_csv('datasets/movies_transform.csv', index=False)"
   ]
  }
 ],
 "metadata": {
  "kernelspec": {
   "display_name": "Python 3",
   "language": "python",
   "name": "python3"
  },
  "language_info": {
   "codemirror_mode": {
    "name": "ipython",
    "version": 3
   },
   "file_extension": ".py",
   "mimetype": "text/x-python",
   "name": "python",
   "nbconvert_exporter": "python",
   "pygments_lexer": "ipython3",
   "version": "3.11.0"
  },
  "orig_nbformat": 4
 },
 "nbformat": 4,
 "nbformat_minor": 2
}
